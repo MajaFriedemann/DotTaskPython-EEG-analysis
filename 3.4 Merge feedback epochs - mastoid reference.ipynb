{
 "cells": [
  {
   "cell_type": "markdown",
   "id": "bc0c8211",
   "metadata": {},
   "source": [
    "Run this notebook to\n",
    "\n",
    "- Merge all feedback epochs from all participants and all sessions and save merged epochs file\n",
    "- Plot FRN for correct vs incorrect trials\n",
    "- Plot FRN for correct vs incorrect trials split by feedback condition\n",
    "- Plot FRN for lower than median vs higher than median confidence \n",
    "- Plot FRN for lower than median vs higher than median confidence split by feedback condition\n",
    "- Plot all of the above separately for the strategic and observational conditions\n"
   ]
  },
  {
   "cell_type": "markdown",
   "id": "84fa373f",
   "metadata": {},
   "source": [
    "## Import stuff"
   ]
  },
  {
   "cell_type": "code",
   "execution_count": null,
   "id": "51e09e6e",
   "metadata": {},
   "outputs": [],
   "source": [
    "import os\n",
    "import numpy as np\n",
    "import mne\n",
    "from mne.stats import permutation_t_test\n",
    "from mne.preprocessing import (ICA, create_eog_epochs, create_ecg_epochs,corrmap)\n",
    "import matplotlib.pyplot as plt\n",
    "import seaborn as sns\n",
    "import re\n",
    "import pandas as pd\n",
    "from scipy import stats\n",
    "from scipy.stats import pearsonr \n",
    "\n",
    "million = 1000000.\n",
    "\n",
    "\n",
    "#%matplotlib qt\n",
    "%matplotlib inline\n",
    "\n",
    "input_dir = 'TaskfeedbackEpochsMastoids'\n"
   ]
  },
  {
   "cell_type": "code",
   "execution_count": null,
   "id": "4ac3c8df",
   "metadata": {},
   "outputs": [],
   "source": [
    "def load_subj_eeg(path, file, downsample=None):\n",
    "    fp = os.path.join(path, '%s-epo.fif' % file)\n",
    "    print('>>> Loading %s' % fp)\n",
    "    epochs = mne.read_epochs(fp, preload=True)\n",
    "    if downsample is not None:\n",
    "        epochs = epochs.resample(downsample)\n",
    "    return epochs\n",
    "\n",
    "def load_all_eeg(path, files, downsample=None):\n",
    "    subject_epochs = [load_subj_eeg(path, file, downsample=downsample) for file in files]\n",
    "    epochs = mne.epochs.concatenate_epochs(subject_epochs)\n",
    "    return epochs"
   ]
  },
  {
   "cell_type": "markdown",
   "id": "ec348876",
   "metadata": {},
   "source": [
    "## Merge epochs"
   ]
  },
  {
   "cell_type": "code",
   "execution_count": null,
   "id": "c8d1ff26",
   "metadata": {},
   "outputs": [],
   "source": [
    "#participant_numbers = [1, 2, 3, 4, 5, 6, 7, 8, 9, 10, 11, 12, 13, 15, 16, 17, 18, 19, 20, 21]\n",
    "\n",
    "sessions = [1, 2]\n",
    "\n",
    "participant_files = []\n",
    "\n",
    "for session in sessions:\n",
    "    \n",
    "    # only strategic condition has feedback\n",
    "    if session == 1:\n",
    "        participant_numbers = [1, 3, 5, 7, 9, 11, 13, 15, 17, 19]\n",
    "    if session == 2:\n",
    "        participant_numbers = [2, 4, 6, 8, 10, 12, 16, 18, 20, 21]\n",
    "        \n",
    "    for subject in participant_numbers:\n",
    "        participant_files.append('%i_%i' % (subject, session))"
   ]
  },
  {
   "cell_type": "code",
   "execution_count": null,
   "id": "151f5969",
   "metadata": {},
   "outputs": [],
   "source": [
    "remerge = True\n",
    "if remerge:\n",
    "    feedback_epochs = load_all_eeg(path='%s/' % input_dir, files=participant_files)\n",
    "    feedback_epochs.save('mergedData/feedback_epoch_mastoids-epo.fif', overwrite=True)\n",
    "else:\n",
    "    feedback_epochs = mne.read_epochs('mergedData/feedback_epoch_mastoids-epo.fif')\n",
    "    \n",
    "feedback_epochs = feedback_epochs.pick_types(eeg=True)\n",
    "data = feedback_epochs.metadata"
   ]
  },
  {
   "cell_type": "markdown",
   "id": "f7f19340",
   "metadata": {},
   "source": [
    "## correct vs incorrect grand average (first calculating each participant's average)"
   ]
  },
  {
   "cell_type": "code",
   "execution_count": null,
   "id": "b0b000bf",
   "metadata": {
    "scrolled": false
   },
   "outputs": [],
   "source": [
    "grand_average_correct = []\n",
    "grand_average_incorrect = []\n",
    "\n",
    "correct_epochs = feedback_epochs['joint_correct == True']\n",
    "incorrect_epochs = feedback_epochs['joint_correct == False']\n",
    "\n",
    "for subject in participant_numbers:\n",
    "    grand_average_correct.append(correct_epochs['participant == %i' % subject].average())\n",
    "    grand_average_incorrect.append(incorrect_epochs['participant == %i' % subject].average())\n",
    "\n",
    "\n",
    "grand_average_correct = mne.grand_average(grand_average_correct)\n",
    "grand_average_incorrect = mne.grand_average(grand_average_incorrect)\n",
    "\n",
    "evokeds = dict(correct=grand_average_correct,\n",
    "               incorrect=grand_average_incorrect)\n",
    "\n",
    "mne.viz.plot_compare_evokeds(evokeds, picks=['Cz'], invert_y=False)\n"
   ]
  },
  {
   "cell_type": "markdown",
   "id": "39dcf11e",
   "metadata": {},
   "source": [
    "## correct vs incorrect split by partner grand average \n"
   ]
  },
  {
   "cell_type": "code",
   "execution_count": null,
   "id": "4df61bc7",
   "metadata": {},
   "outputs": [],
   "source": [
    "grand_average_underconf_correct = []\n",
    "grand_average_underconf_incorrect = []\n",
    "grand_average_overconf_correct = []\n",
    "grand_average_overconf_incorrect = []\n",
    "\n",
    "underconf_epochs = feedback_epochs['partner == \"underconfident\"']\n",
    "underconf_correct_epochs = underconf_epochs['joint_correct == True']\n",
    "underconf_incorrect_epochs = underconf_epochs['joint_correct == False']\n",
    "\n",
    "overconf_epochs = feedback_epochs['partner == \"overconfident\"']\n",
    "overconf_correct_epochs = overconf_epochs['joint_correct == True']\n",
    "overconf_incorrect_epochs = overconf_epochs['joint_correct == False']\n",
    "\n",
    "\n",
    "\n",
    "for subject in participant_numbers:    \n",
    "    grand_average_underconf_correct.append(underconf_correct_epochs['participant == %i' % subject].average())\n",
    "    grand_average_underconf_incorrect.append(underconf_incorrect_epochs['participant == %i' % subject].average())\n",
    "    grand_average_overconf_correct.append(overconf_correct_epochs['participant == %i' % subject].average())\n",
    "    grand_average_overconf_incorrect.append(overconf_incorrect_epochs['participant == %i' % subject].average())\n",
    "\n",
    "grand_average_underconf_correct = mne.grand_average(grand_average_underconf_correct)\n",
    "grand_average_underconf_incorrect = mne.grand_average(grand_average_underconf_incorrect)\n",
    "grand_average_overconf_correct = mne.grand_average(grand_average_overconf_correct)\n",
    "grand_average_overconf_incorrect = mne.grand_average(grand_average_overconf_incorrect)\n",
    "\n",
    "\n",
    "evokeds = dict(underconf_incorrect=grand_average_underconf_incorrect,\n",
    "               underconf_correct=grand_average_underconf_correct,\n",
    "               overconf_incorrect=grand_average_overconf_incorrect,\n",
    "               overconf_correct=grand_average_overconf_correct)\n",
    "\n",
    "mne.viz.plot_compare_evokeds(evokeds, picks=['Cz'], invert_y=False)\n"
   ]
  },
  {
   "cell_type": "markdown",
   "id": "efc3370d",
   "metadata": {},
   "source": [
    "## Low vs high confidence grand average "
   ]
  },
  {
   "cell_type": "code",
   "execution_count": null,
   "id": "96461a83",
   "metadata": {},
   "outputs": [],
   "source": [
    "zscore = lambda x: (x - x.mean()) / x.std()\n",
    "# zscore by participant\n",
    "feedback_epochs.metadata['confidence_z_by_participant'] = feedback_epochs.metadata['participant_confidence'].groupby(feedback_epochs.metadata['participant']).transform(zscore)\n",
    "        \n",
    "median_confidence = feedback_epochs.metadata['confidence_z_by_participant'].median()\n"
   ]
  },
  {
   "cell_type": "code",
   "execution_count": null,
   "id": "302120dc",
   "metadata": {},
   "outputs": [],
   "source": [
    "grand_average_high_conf = []\n",
    "grand_average_low_conf = []\n",
    "\n",
    "high_conf_epochs = feedback_epochs['confidence_z_by_participant > 0']\n",
    "low_conf_epochs = feedback_epochs['confidence_z_by_participant <= 0']\n",
    "\n",
    "\n",
    "        \n",
    "for subject in participant_numbers:\n",
    "    grand_average_high_conf.append(high_conf_epochs['participant == %i' % subject].average())\n",
    "    grand_average_low_conf.append(low_conf_epochs['participant == %i' % subject].average())\n",
    "\n",
    "\n",
    "grand_average_high_conf = mne.grand_average(grand_average_high_conf)\n",
    "grand_average_low_conf = mne.grand_average(grand_average_low_conf)\n",
    "\n",
    "evokeds = dict(high_confidence=grand_average_high_conf,\n",
    "               low_confidence=grand_average_low_conf)\n",
    "\n",
    "mne.viz.plot_compare_evokeds(evokeds, picks=['Cz'], invert_y=False)\n"
   ]
  },
  {
   "cell_type": "markdown",
   "id": "f656fbac",
   "metadata": {},
   "source": [
    "## Low vs high confidence split by partner grand average \n"
   ]
  },
  {
   "cell_type": "code",
   "execution_count": null,
   "id": "09412211",
   "metadata": {},
   "outputs": [],
   "source": [
    "grand_average_underconf_high_conf = []\n",
    "grand_average_underconf_low_conf = []\n",
    "grand_average_overconf_high_conf = []\n",
    "grand_average_overconf_low_conf = []\n",
    "\n",
    "underconf_epochs = feedback_epochs['partner == \"underconfident\"']\n",
    "underconf_high_conf_epochs = underconf_epochs['confidence_z_by_participant > 0']\n",
    "underconf_low_conf_epochs = underconf_epochs['confidence_z_by_participant <= 0']\n",
    "\n",
    "overconf_epochs = feedback_epochs['partner == \"overconfident\"']\n",
    "overconf_high_conf_epochs = overconf_epochs['confidence_z_by_participant > 0']\n",
    "overconf_low_conf_epochs = overconf_epochs['confidence_z_by_participant <= 0']\n",
    "\n",
    "\n",
    "\n",
    "for subject in participant_numbers:    \n",
    "    grand_average_underconf_high_conf.append(underconf_high_conf_epochs['participant == %i' % subject].average())\n",
    "    grand_average_underconf_low_conf.append(underconf_low_conf_epochs['participant == %i' % subject].average())\n",
    "    grand_average_overconf_high_conf.append(overconf_high_conf_epochs['participant == %i' % subject].average())\n",
    "    grand_average_overconf_low_conf.append(overconf_low_conf_epochs['participant == %i' % subject].average())\n",
    "\n",
    "grand_average_underconf_high_conf = mne.grand_average(grand_average_underconf_high_conf)\n",
    "grand_average_underconf_low_conf = mne.grand_average(grand_average_underconf_low_conf)\n",
    "grand_average_overconf_high_conf = mne.grand_average(grand_average_overconf_high_conf)\n",
    "grand_average_overconf_low_conf = mne.grand_average(grand_average_overconf_low_conf)\n",
    "\n",
    "\n",
    "evokeds = dict(underconf_low_confidence=grand_average_underconf_low_conf,\n",
    "               underconf_high_confidence=grand_average_underconf_high_conf,\n",
    "               overconf_low_confidence=grand_average_overconf_low_conf,\n",
    "               overconf_high_confidence=grand_average_overconf_high_conf)\n",
    "\n",
    "mne.viz.plot_compare_evokeds(evokeds, picks=['Cz'], invert_y=False)\n"
   ]
  },
  {
   "cell_type": "code",
   "execution_count": null,
   "id": "71b5f843",
   "metadata": {},
   "outputs": [],
   "source": []
  }
 ],
 "metadata": {
  "kernelspec": {
   "display_name": "Python 3 (ipykernel)",
   "language": "python",
   "name": "python3"
  },
  "language_info": {
   "codemirror_mode": {
    "name": "ipython",
    "version": 3
   },
   "file_extension": ".py",
   "mimetype": "text/x-python",
   "name": "python",
   "nbconvert_exporter": "python",
   "pygments_lexer": "ipython3",
   "version": "3.10.4"
  }
 },
 "nbformat": 4,
 "nbformat_minor": 5
}
