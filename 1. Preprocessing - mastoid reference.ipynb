{
 "cells": [
  {
   "cell_type": "markdown",
   "id": "2908f4e1",
   "metadata": {},
   "source": [
    "## Note for writing up\n",
    "Check which epochs are used in the end!!! I think they are filtered between .5 and 30 Hz in the end rather than what I do here!"
   ]
  },
  {
   "cell_type": "markdown",
   "id": "00cdf7a7",
   "metadata": {},
   "source": [
    "Run this notebook to\n",
    "\n",
    "- Load bdf files\n",
    "- Set channel locations\n",
    "- Apply low-pass filter\n",
    "- Apply high-pass filter\n",
    "- Downsample\n",
    "- Manually select very bad segments\n",
    "- Apply mastoid reference\n",
    "- Interpolate noisy channels\n",
    "- Compute ICA to remove eye movement artifcats\n",
    "- Save cleaned data\n",
    "                                                                                                                     "
   ]
  },
  {
   "cell_type": "markdown",
   "id": "e4257908",
   "metadata": {},
   "source": [
    "## Import stuff and create directories"
   ]
  },
  {
   "cell_type": "code",
   "execution_count": null,
   "id": "806cb560",
   "metadata": {},
   "outputs": [],
   "source": [
    "import os\n",
    "import numpy as np\n",
    "import mne\n",
    "from mne.preprocessing import (ICA, create_eog_epochs, create_ecg_epochs,corrmap)\n",
    "import matplotlib.pyplot as plt\n",
    "import seaborn as sns\n",
    "import re\n",
    "import sklearn \n",
    "\n",
    "%matplotlib qt"
   ]
  },
  {
   "cell_type": "code",
   "execution_count": null,
   "id": "06582365",
   "metadata": {},
   "outputs": [],
   "source": [
    "def mkdir(p):\n",
    "    sp = re.split('/|\\\\\\\\', p)\n",
    "    bp = ''\n",
    "    for pp in sp:\n",
    "        bp = os.path.join(bp, pp)\n",
    "        if not os.path.exists(bp):\n",
    "            os.mkdir(bp)\n",
    "            print( '%s created.' % bp)\n",
    "\n",
    "            \n",
    "mkdir('EEGdata')\n",
    "mkdir('annotations')\n",
    "mkdir('EEGdata/cleaned_mastoid_reference')\n"
   ]
  },
  {
   "cell_type": "markdown",
   "id": "08a4c3a2",
   "metadata": {},
   "source": [
    "## Load the original bdf file"
   ]
  },
  {
   "cell_type": "code",
   "execution_count": null,
   "id": "d613abf6",
   "metadata": {},
   "outputs": [],
   "source": [
    "session = 2"
   ]
  },
  {
   "cell_type": "code",
   "execution_count": null,
   "id": "9830e01e",
   "metadata": {},
   "outputs": [],
   "source": [
    "subject = 21"
   ]
  },
  {
   "cell_type": "code",
   "execution_count": null,
   "id": "c99b442b",
   "metadata": {},
   "outputs": [],
   "source": [
    "data_dir = 'EEGdata'\n",
    "\n",
    "if session == 1:\n",
    "    filepath = os.path.join(data_dir, '%i_1.bdf' % subject) # session 1\n",
    "if session == 2:\n",
    "    filepath = os.path.join(data_dir, '%i_2.bdf' % subject) # session 2"
   ]
  },
  {
   "cell_type": "code",
   "execution_count": null,
   "id": "ea3d3cfc",
   "metadata": {},
   "outputs": [],
   "source": [
    "raw = mne.io.read_raw_bdf(filepath) "
   ]
  },
  {
   "cell_type": "markdown",
   "id": "80b63d68",
   "metadata": {},
   "source": [
    "## Channel locations"
   ]
  },
  {
   "cell_type": "code",
   "execution_count": null,
   "id": "b3258fb0",
   "metadata": {},
   "outputs": [],
   "source": [
    "raw = raw.drop_channels(['EXG7', 'EXG8'])\n",
    "\n",
    "eogs = ['ER', 'EL', 'ELA', 'ELB']\n",
    "emgs = ['ML', 'MR']\n",
    "\n",
    "mne.rename_channels(info = raw.info, mapping = dict(zip(raw.ch_names[64:72], eogs + emgs)))"
   ]
  },
  {
   "cell_type": "code",
   "execution_count": null,
   "id": "143e9114",
   "metadata": {},
   "outputs": [],
   "source": [
    "print(raw)"
   ]
  },
  {
   "cell_type": "code",
   "execution_count": null,
   "id": "760eae20",
   "metadata": {},
   "outputs": [],
   "source": [
    "print(raw.info)"
   ]
  },
  {
   "cell_type": "code",
   "execution_count": null,
   "id": "aa97c1ba",
   "metadata": {},
   "outputs": [],
   "source": [
    "raw = raw.load_data()"
   ]
  },
  {
   "cell_type": "markdown",
   "id": "17346f3c",
   "metadata": {},
   "source": [
    "## Low-pass filter to < 50 Hz"
   ]
  },
  {
   "cell_type": "code",
   "execution_count": null,
   "id": "72ea324a",
   "metadata": {},
   "outputs": [],
   "source": [
    "raw = raw.filter(l_freq=None, h_freq=50)"
   ]
  },
  {
   "cell_type": "markdown",
   "id": "daee7f79",
   "metadata": {},
   "source": [
    "## High-pass filter to > .1 Hz"
   ]
  },
  {
   "cell_type": "code",
   "execution_count": null,
   "id": "668dd70b",
   "metadata": {},
   "outputs": [],
   "source": [
    "raw = raw.filter(l_freq=.1, h_freq=None)"
   ]
  },
  {
   "cell_type": "markdown",
   "id": "5670148a",
   "metadata": {},
   "source": [
    "## Downsample to 250 Hz"
   ]
  },
  {
   "cell_type": "code",
   "execution_count": null,
   "id": "2e3f3a3e",
   "metadata": {},
   "outputs": [],
   "source": [
    "raw = raw.resample(250)"
   ]
  },
  {
   "cell_type": "markdown",
   "id": "7ddedcb2",
   "metadata": {},
   "source": [
    "## Manually select very bad segments"
   ]
  },
  {
   "cell_type": "code",
   "execution_count": null,
   "id": "1b26641b",
   "metadata": {},
   "outputs": [],
   "source": [
    "# Check if any annotations have been saved for this participant?\n",
    "\n",
    "if session == 1:\n",
    "    annot_file = '%s/%i-annot.fif' % ('annotations', subject)\n",
    "if session == 2:\n",
    "    annot_file = '%s/%i_2-annot.fif' % ('annotations', subject)\n",
    "\n",
    "\n",
    "if os.path.exists(annot_file):\n",
    "    txt = 'Annotations file found at %s.\\nDo you want to load it?\\ny/n...'\n",
    "    resp = input(txt)\n",
    "    if resp.lower() == 'y':\n",
    "        old_annotations = mne.read_annotations(annot_file)\n",
    "        raw = raw.set_annotations(old_annotations)\n"
   ]
  },
  {
   "cell_type": "code",
   "execution_count": null,
   "id": "9ac0415f",
   "metadata": {
    "scrolled": true
   },
   "outputs": [],
   "source": [
    "# Plot raw data and manually select bad segments\n",
    "raw.plot(n_channels=68, highpass=None, lowpass=None).canvas.key_press_event('a')\n",
    "\n"
   ]
  },
  {
   "cell_type": "code",
   "execution_count": null,
   "id": "cb357b63",
   "metadata": {},
   "outputs": [],
   "source": [
    "# Save annotations in annotations file for participant \n",
    "\n",
    "if raw.annotations is not None:\n",
    "    txt = 'Save annotations to file?\\ny/n...'\n",
    "    resp = input(txt)\n",
    "    if resp.lower() == 'y':\n",
    "        raw.annotations.save(annot_file, overwrite=True)"
   ]
  },
  {
   "cell_type": "markdown",
   "id": "40d737f0",
   "metadata": {},
   "source": [
    "## Apply mastoid reference"
   ]
  },
  {
   "cell_type": "code",
   "execution_count": null,
   "id": "902fa691",
   "metadata": {},
   "outputs": [],
   "source": [
    "if session == 1:\n",
    "    if subject == 3:\n",
    "        raw = raw.set_eeg_reference(ref_channels=['MR']) # ML fell of \n",
    "else:     \n",
    "    raw = raw.set_eeg_reference(ref_channels=['ML', 'MR'])\n",
    "    \n",
    "    "
   ]
  },
  {
   "cell_type": "code",
   "execution_count": null,
   "id": "9570ce09",
   "metadata": {},
   "outputs": [],
   "source": [
    "raw = raw.drop_channels(['ML', 'MR'])\n",
    "\n",
    "d = {}\n",
    "d.update( dict(zip(eogs, ['eog']*len(eogs))))\n",
    "d.update( dict(zip(raw.ch_names[:64], ['eeg']*64)))\n",
    "\n",
    "raw.set_channel_types(d)\n",
    "\n",
    "raw = raw.set_montage('biosemi64')"
   ]
  },
  {
   "cell_type": "markdown",
   "id": "345c9f1a",
   "metadata": {},
   "source": [
    "## Interpolate noisy channels if necessary"
   ]
  },
  {
   "cell_type": "code",
   "execution_count": null,
   "id": "0fc93966",
   "metadata": {},
   "outputs": [],
   "source": [
    "# Plot raw data to check for noisy channels\n",
    "raw.plot(n_channels=68, highpass=None, lowpass=None).canvas.key_press_event('a')\n"
   ]
  },
  {
   "cell_type": "code",
   "execution_count": null,
   "id": "1cecdc2d",
   "metadata": {
    "scrolled": true
   },
   "outputs": [],
   "source": [
    "# Plot PSD (check for bad channels)\n",
    "\n",
    "raw.plot_psd(reject_by_annotation=False)"
   ]
  },
  {
   "cell_type": "code",
   "execution_count": null,
   "id": "24c86293",
   "metadata": {},
   "outputs": [],
   "source": [
    "# Plot channel covariance matrix (check for bad channels)\n",
    "\n",
    "X = raw._data[:64]\n",
    "cov = np.cov(X)\n",
    "plt.figure(figsize=(8,6))\n",
    "sns.heatmap(cov, cmap='seismic', center=0);"
   ]
  },
  {
   "cell_type": "code",
   "execution_count": null,
   "id": "586cabae",
   "metadata": {},
   "outputs": [],
   "source": [
    "# Plot channel correlation matrix (check for bad channels)\n",
    "\n",
    "X = raw._data[:64]\n",
    "cor = np.corrcoef(X)\n",
    "plt.figure(figsize=(8,6))\n",
    "sns.heatmap(cor, cmap='seismic', center=0);"
   ]
  },
  {
   "cell_type": "code",
   "execution_count": null,
   "id": "9932e93b",
   "metadata": {},
   "outputs": [],
   "source": [
    "# Use this to figure out which number refers to which channel \n",
    "\n",
    "print(raw.ch_names[6])\n"
   ]
  },
  {
   "cell_type": "code",
   "execution_count": null,
   "id": "a8e37a7b",
   "metadata": {
    "scrolled": true
   },
   "outputs": [],
   "source": [
    "# Add entries here for channels to interpolate\n",
    "\n",
    "if session == 1:\n",
    "    participant_bads = {\n",
    "        1: ['PO4'],\n",
    "        10: ['P2'],\n",
    "        13: ['PO4'],\n",
    "        14: ['PO4'],\n",
    "        16: ['P2'],\n",
    "        20: ['P2'],\n",
    "        21: ['POz']\n",
    "    }\n",
    "\n",
    "    \n",
    "if session == 2:    \n",
    "    participant_bads = {\n",
    "        3: ['P2'],\n",
    "        5: ['P2'],\n",
    "        10: ['P2'],\n",
    "        11: ['P2'],\n",
    "        12: ['PO4'],\n",
    "        13: ['PO4'],\n",
    "        16: ['P2'],\n",
    "        21: ['P2']\n",
    "    }\n",
    "\n",
    "\n",
    "    \n",
    "if subject in participant_bads.keys():\n",
    "    bads = participant_bads[subject]\n",
    "    raw.info['bads'] = bads\n",
    "raw = raw.interpolate_bads()\n"
   ]
  },
  {
   "cell_type": "markdown",
   "id": "c03d20c1",
   "metadata": {},
   "source": [
    "## Independent component analysis (ICA)"
   ]
  },
  {
   "cell_type": "markdown",
   "id": "a950eec7",
   "metadata": {},
   "source": [
    "### Fit ICA and plot components"
   ]
  },
  {
   "cell_type": "code",
   "execution_count": null,
   "id": "0300c685",
   "metadata": {
    "scrolled": true
   },
   "outputs": [],
   "source": [
    "# filter the data to remove low-frequency drifts\n",
    "\n",
    "filt_raw = raw.copy()\n",
    "filt_raw.load_data().filter(l_freq=1., h_freq=None)"
   ]
  },
  {
   "cell_type": "code",
   "execution_count": null,
   "id": "af0d733a",
   "metadata": {
    "scrolled": true
   },
   "outputs": [],
   "source": [
    "# fit the ICA (15 components - check with Nick?)\n",
    "\n",
    "ica = ICA(n_components=15, method='fastica', max_iter='auto', random_state=97)\n",
    "ica.fit(filt_raw)"
   ]
  },
  {
   "cell_type": "code",
   "execution_count": null,
   "id": "ba7914f6",
   "metadata": {
    "scrolled": true
   },
   "outputs": [],
   "source": [
    "ica.plot_sources(raw)"
   ]
  },
  {
   "cell_type": "code",
   "execution_count": null,
   "id": "0839e992",
   "metadata": {
    "scrolled": true
   },
   "outputs": [],
   "source": [
    "ica.plot_components()"
   ]
  },
  {
   "cell_type": "code",
   "execution_count": null,
   "id": "23e70c3d",
   "metadata": {},
   "outputs": [],
   "source": [
    "# pick components to exclude\n",
    "\n",
    "exclude_list = [0, 3]"
   ]
  },
  {
   "cell_type": "code",
   "execution_count": null,
   "id": "8470a420",
   "metadata": {},
   "outputs": [],
   "source": [
    "# plot an overlay of the original signal against the reconstructed signal with the artifactual ICs excluded\n",
    "\n",
    "ica.plot_overlay(raw, exclude=exclude_list, picks='eeg')"
   ]
  },
  {
   "cell_type": "code",
   "execution_count": null,
   "id": "82402c16",
   "metadata": {},
   "outputs": [],
   "source": [
    "# further check the components you want to exclude\n",
    "\n",
    "ica.plot_properties(raw, picks=exclude_list, psd_args={'fmax': 35.})"
   ]
  },
  {
   "cell_type": "code",
   "execution_count": null,
   "id": "4d3055f4",
   "metadata": {},
   "outputs": [],
   "source": [
    "# enter components to exclude (most likely the ones in exclude_list)\n",
    "\n",
    "if session == 1:\n",
    "    excludes = {\n",
    "        1: [0, 3],\n",
    "        2: [1, 2],\n",
    "        3: [1, 3],\n",
    "        4: [0, 6],\n",
    "        5: [0, 3],\n",
    "        6: [0, 3],\n",
    "        7: [0, 6],\n",
    "        8: [0, 2],\n",
    "        9: [0, 2],\n",
    "        10: [0, 5],\n",
    "        11: [0, 4],\n",
    "        12: [0, 6],\n",
    "        13: [0, 1],\n",
    "        15: [0, 2],\n",
    "        16: [0, 3],\n",
    "        17: [0, 4],\n",
    "        18: [0, 4],\n",
    "        19: [0, 5],\n",
    "        20: [0, 1],\n",
    "        21: [0, 2]\n",
    "    }\n",
    "\n",
    "\n",
    "if session == 2:    \n",
    "    excludes = {\n",
    "        1: [0, 6],\n",
    "        2: [0, 4],\n",
    "        3: [0, 3],\n",
    "        4: [1, 8],\n",
    "        5: [0, 1],\n",
    "        6: [0, 3],\n",
    "        7: [0, 5],\n",
    "        8: [0, 4],\n",
    "        9: [0, 2],\n",
    "        10: [0, 9],\n",
    "        11: [0, 4],\n",
    "        12: [0, 4],\n",
    "        13: [0, 3],\n",
    "        15: [0, 4],\n",
    "        16: [1, 6],\n",
    "        17: [0, 4],\n",
    "        18: [0, 4],\n",
    "        19: [1, 6],\n",
    "        20: [1, 9],\n",
    "        21: [0, 3]\n",
    "    }"
   ]
  },
  {
   "cell_type": "code",
   "execution_count": null,
   "id": "3a461337",
   "metadata": {},
   "outputs": [],
   "source": [
    "#ica.exclude = excludes['%i' % subject] #check with this does not work\n",
    "ica.exclude = exclude_list"
   ]
  },
  {
   "cell_type": "code",
   "execution_count": null,
   "id": "f01c0ce9",
   "metadata": {},
   "outputs": [],
   "source": [
    "raw = ica.apply(raw)"
   ]
  },
  {
   "cell_type": "markdown",
   "id": "72dd25c9",
   "metadata": {},
   "source": [
    "## Save to EEGdata/converted/sXXX-raw.fif"
   ]
  },
  {
   "cell_type": "code",
   "execution_count": null,
   "id": "40ee772f",
   "metadata": {
    "scrolled": true
   },
   "outputs": [],
   "source": [
    "if session == 1:\n",
    "    raw.save('EEGdata/cleaned_mastoid_reference/s%i-raw.fif' % subject, overwrite=True)\n",
    "\n",
    "if session == 2:\n",
    "    raw.save('EEGdata/cleaned_mastoid_reference/s%i_2-raw.fif' % subject, overwrite=True)"
   ]
  },
  {
   "cell_type": "markdown",
   "id": "6abba46f",
   "metadata": {},
   "source": [
    "## \n",
    "\n",
    "## Inspect ERPs"
   ]
  },
  {
   "cell_type": "code",
   "execution_count": null,
   "id": "f49cd9b2",
   "metadata": {},
   "outputs": [],
   "source": [
    "# # strategic condition\n",
    "\n",
    "# event_dict = {'exp_start': 1, \n",
    "#               'block_start': 2, \n",
    "#               'fixation_cross': 3,\n",
    "#               'stimulus_left_correct': 4, \n",
    "#               'stimulus_right_correct': 5, \n",
    "#               'response_left': 6,\n",
    "#               'response_right': 7,\n",
    "#               'highlight_box': 8,\n",
    "#               'confidence_rating': 9,\n",
    "#               'partner_marker_left': 10,\n",
    "#               'partner_marker_right': 11,\n",
    "#               'higher_conf_box': 12,\n",
    "#               'feedback_correct': 13,\n",
    "#               'feedback_incorrect': 14,\n",
    "#               'exp_end': 15\n",
    "#              }\n",
    "\n",
    "\n",
    "\n",
    "# non-strategic condition\n",
    "\n",
    "event_dict = {'exp_start': 1, \n",
    "              'block_start': 2, \n",
    "              'fixation_cross': 3,\n",
    "              'stimulus_left_correct': 4, \n",
    "              'stimulus_right_correct': 5, \n",
    "              'response_left': 6,\n",
    "              'response_right': 7,\n",
    "              'highlight_box': 8,\n",
    "              'confidence_rating': 9,\n",
    "              'partner_marker_left': 10,\n",
    "              'partner_marker_right': 11,\n",
    "              #'exp_end': 15\n",
    "             }"
   ]
  },
  {
   "cell_type": "code",
   "execution_count": null,
   "id": "83fe588b",
   "metadata": {
    "scrolled": true
   },
   "outputs": [],
   "source": [
    "# identify stimulus events\n",
    "    \n",
    "events = mne.find_events(raw, stim_channel='Status')"
   ]
  },
  {
   "cell_type": "code",
   "execution_count": null,
   "id": "aa74bf06",
   "metadata": {},
   "outputs": [],
   "source": [
    "# show events timecourse\n",
    "\n",
    "fig = mne.viz.plot_events(events, event_id=event_dict, sfreq=raw.info['sfreq'],\n",
    "                          first_samp=raw.first_samp)"
   ]
  },
  {
   "cell_type": "code",
   "execution_count": null,
   "id": "ea3c7be9",
   "metadata": {},
   "outputs": [],
   "source": [
    "epochs = mne.Epochs(raw, events, event_id=event_dict, tmin=-0.2, tmax=0.5, preload=True)"
   ]
  },
  {
   "cell_type": "markdown",
   "id": "7ab494bb",
   "metadata": {},
   "source": [
    "### Feedback Related Negativity"
   ]
  },
  {
   "cell_type": "code",
   "execution_count": null,
   "id": "59ccc9f6",
   "metadata": {},
   "outputs": [],
   "source": [
    "feedback_correct_epochs = epochs['feedback_correct']\n",
    "feedback_incorrect_epochs = epochs['feedback_incorrect']"
   ]
  },
  {
   "cell_type": "code",
   "execution_count": null,
   "id": "dfe08e64",
   "metadata": {},
   "outputs": [],
   "source": [
    "feedback_correct_evoked = feedback_correct_epochs.average()\n",
    "feedback_incorrect_evoked = feedback_incorrect_epochs.average()"
   ]
  },
  {
   "cell_type": "code",
   "execution_count": null,
   "id": "1ae5d894",
   "metadata": {},
   "outputs": [],
   "source": [
    "evokeds = dict(correct_feedback=list(epochs['feedback_correct'].iter_evoked()),\n",
    "               incorrect_feedbackl=list(epochs['feedback_incorrect'].iter_evoked()))\n",
    "\n",
    "mne.viz.plot_compare_evokeds(evokeds, combine='mean', picks=['Cz'], invert_y=True)"
   ]
  },
  {
   "cell_type": "markdown",
   "id": "6f030bab",
   "metadata": {},
   "source": [
    "### Stimulus-locked P300"
   ]
  },
  {
   "cell_type": "code",
   "execution_count": null,
   "id": "8b8e8f48",
   "metadata": {},
   "outputs": [],
   "source": [
    "stimulus_epochs = epochs['stimulus_left_correct', 'stimulus_right_correct']"
   ]
  },
  {
   "cell_type": "code",
   "execution_count": null,
   "id": "bb4ae7b1",
   "metadata": {},
   "outputs": [],
   "source": [
    "stimulus_epochs.plot_image(picks=['Pz'])"
   ]
  },
  {
   "cell_type": "markdown",
   "id": "c9f1aa01",
   "metadata": {},
   "source": [
    "### Visual Potential P100"
   ]
  },
  {
   "cell_type": "code",
   "execution_count": null,
   "id": "42872659",
   "metadata": {
    "scrolled": true
   },
   "outputs": [],
   "source": [
    "stimulus_epochs.plot_image(picks=['PO8'])"
   ]
  },
  {
   "cell_type": "markdown",
   "id": "fba6ebaa",
   "metadata": {},
   "source": [
    "### Frontocentral N100"
   ]
  },
  {
   "cell_type": "code",
   "execution_count": null,
   "id": "3ab3720f",
   "metadata": {},
   "outputs": [],
   "source": [
    "stimulus_epochs.plot_image(picks=['FCz'])"
   ]
  },
  {
   "cell_type": "code",
   "execution_count": null,
   "id": "adc6bb33",
   "metadata": {},
   "outputs": [],
   "source": []
  },
  {
   "cell_type": "code",
   "execution_count": null,
   "id": "ce42c494",
   "metadata": {},
   "outputs": [],
   "source": []
  }
 ],
 "metadata": {
  "kernelspec": {
   "display_name": "Python 3 (ipykernel)",
   "language": "python",
   "name": "python3"
  },
  "language_info": {
   "codemirror_mode": {
    "name": "ipython",
    "version": 3
   },
   "file_extension": ".py",
   "mimetype": "text/x-python",
   "name": "python",
   "nbconvert_exporter": "python",
   "pygments_lexer": "ipython3",
   "version": "3.10.4"
  }
 },
 "nbformat": 4,
 "nbformat_minor": 5
}
