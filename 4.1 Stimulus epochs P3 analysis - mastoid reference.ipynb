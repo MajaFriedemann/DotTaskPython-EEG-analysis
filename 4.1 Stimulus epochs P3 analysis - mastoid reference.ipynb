{
 "cells": [
  {
   "cell_type": "markdown",
   "id": "bc0c8211",
   "metadata": {},
   "source": [
    "Run this notebook to\n",
    "\n",
    "- f\n"
   ]
  },
  {
   "cell_type": "markdown",
   "id": "84fa373f",
   "metadata": {},
   "source": [
    "## Import stuff"
   ]
  },
  {
   "cell_type": "code",
   "execution_count": null,
   "id": "51e09e6e",
   "metadata": {},
   "outputs": [],
   "source": [
    "import os\n",
    "import numpy as np\n",
    "import mne\n",
    "from mne.preprocessing import (ICA, create_eog_epochs, create_ecg_epochs,corrmap)\n",
    "import matplotlib.pyplot as plt\n",
    "import seaborn as sns\n",
    "import re\n",
    "import pandas as pd\n",
    "from scipy import stats, signal\n",
    "\n",
    "import matplotlib as mpl\n",
    "\n",
    "#%matplotlib qt\n",
    "%matplotlib inline\n",
    "\n",
    "sns.set_style('whitegrid')\n",
    "mpl.rcParams['font.size'] = 16\n",
    "mpl.rcParams['axes.titlesize'] = 'small'\n",
    "mpl.rcParams['axes.labelsize'] = 'small'\n",
    "mpl.rcParams['xtick.labelsize'] = 'small'\n",
    "mpl.rcParams['ytick.labelsize'] = 'small'\n",
    "mpl.rcParams['legend.fontsize'] = 'small'\n",
    "mpl.rcParams['figure.titlesize'] = 'large'\n",
    "mpl.rcParams['figure.figsize'] = (8, 5) # does not seem to work\n",
    "mpl.rc('font', family='DejaVu Sans')\n",
    "mpl.rcParams['svg.fonttype'] = 'none'\n",
    "\n",
    "million = 1000000.\n",
    "\n",
    "\n",
    "\n",
    "input_dir = 'TaskstimulusEpochsMastoids'\n"
   ]
  },
  {
   "cell_type": "code",
   "execution_count": null,
   "id": "f4a62d9b",
   "metadata": {},
   "outputs": [],
   "source": [
    "participant_numbers = [1, 2, 3, 4, 5, 6, 7, 8, 9, 10, 11, 12, 13, 15, 16, 17, 18, 19, 20, 21]\n",
    "\n",
    "sessions = [1, 2]\n",
    "\n",
    "conditions = [\"s\", \"ns\"]\n",
    "\n",
    "partners = [\"overconfident\", \"underconfident\"]"
   ]
  },
  {
   "cell_type": "code",
   "execution_count": null,
   "id": "151f5969",
   "metadata": {},
   "outputs": [],
   "source": [
    "stimulus_epochs = mne.read_epochs('mergedData/stimulus_epoch_mastoids-epo.fif')"
   ]
  },
  {
   "cell_type": "code",
   "execution_count": null,
   "id": "b5e7a0ac",
   "metadata": {},
   "outputs": [],
   "source": [
    "stimulus_epochs.metadata.index = range(len(stimulus_epochs.metadata))"
   ]
  },
  {
   "cell_type": "code",
   "execution_count": null,
   "id": "08a835c8",
   "metadata": {},
   "outputs": [],
   "source": [
    "stimulus_epochs_Pz = stimulus_epochs.copy().pick('Pz')"
   ]
  },
  {
   "cell_type": "code",
   "execution_count": null,
   "id": "e72e9617",
   "metadata": {},
   "outputs": [],
   "source": [
    "zscore = lambda x: (x - x.mean()) / x.std()\n",
    "# zscore confidence by participant\n",
    "stimulus_epochs.metadata['confidence_z_by_participant'] = stimulus_epochs.metadata['participant_confidence'].groupby(stimulus_epochs.metadata['participant']).transform(zscore)"
   ]
  },
  {
   "cell_type": "code",
   "execution_count": null,
   "id": "21aeb33d",
   "metadata": {},
   "outputs": [],
   "source": []
  },
  {
   "cell_type": "markdown",
   "id": "20ae4c2a",
   "metadata": {},
   "source": [
    "## Calculate max amplitude and latency post stimulus at Pz"
   ]
  },
  {
   "cell_type": "markdown",
   "id": "2e8a0cba",
   "metadata": {},
   "source": [
    "### using mne get_peak function"
   ]
  },
  {
   "cell_type": "code",
   "execution_count": null,
   "id": "6656867a",
   "metadata": {},
   "outputs": [],
   "source": [
    "for ix, trial in enumerate(stimulus_epochs_Pz.iter_evoked()):\n",
    "    channel, latency, value = trial.get_peak(return_amplitude=True, mode='pos', tmin=0.25, tmax=1)\n",
    "    latency = float(round(latency * 1e3, 5))  # convert to milliseconds\n",
    "    value = float(round(value * 1e6, 5))      # convert to µV\n",
    "    print('Trial {}: max of {} µV at {} ms in channel {}'\n",
    "          .format(ix, value, latency, channel))\n",
    "    stimulus_epochs.metadata.loc[ix, 'Pz_max_voltage'] = value\n",
    "    stimulus_epochs.metadata.loc[ix, 'Pz_max_latency'] = latency"
   ]
  },
  {
   "cell_type": "code",
   "execution_count": null,
   "id": "abaef197",
   "metadata": {},
   "outputs": [],
   "source": [
    "plt.title(\"max voltage\", fontsize=20)\n",
    "plt.xlabel(\"max voltage at Pz 250-1000ms post stimulus\")\n",
    "plt.ylabel(\"count\")\n",
    "bins = np.arange(stimulus_epochs.metadata['Pz_max_voltage'].min(), stimulus_epochs.metadata['Pz_max_voltage'].max()+1, 1)\n",
    "plt.xlim((-10, 40))\n",
    "plt.hist(stimulus_epochs.metadata['Pz_max_voltage'], bins=bins)\n",
    "plt.show() "
   ]
  },
  {
   "cell_type": "code",
   "execution_count": null,
   "id": "6bfde2e8",
   "metadata": {},
   "outputs": [],
   "source": [
    "plt.title(\"latency\", fontsize=20)\n",
    "plt.xlabel(\"latency of max voltage at Pz 250-1000ms post stimulus\")\n",
    "plt.ylabel(\"count\")\n",
    "bins = np.arange(stimulus_epochs.metadata['Pz_max_latency'].min(), stimulus_epochs.metadata['Pz_max_latency'].max()+4, 4)\n",
    "plt.hist(stimulus_epochs.metadata['Pz_max_latency'], bins=bins)\n",
    "plt.show() "
   ]
  },
  {
   "cell_type": "code",
   "execution_count": null,
   "id": "41f97f0b",
   "metadata": {},
   "outputs": [],
   "source": []
  },
  {
   "cell_type": "markdown",
   "id": "d3fbbba8",
   "metadata": {},
   "source": [
    "### using numpy amax and argmax (gives the same results as the mne get_peak function)"
   ]
  },
  {
   "cell_type": "code",
   "execution_count": null,
   "id": "1660287a",
   "metadata": {},
   "outputs": [],
   "source": [
    "tmax = 1000\n",
    "tmin = 250\n",
    "\n",
    "indexmax = round(int(300+tmax/4)) # index 0 is at -300ms; to convert index to ms, conider that this is at 250Hz, i.e. 4ms increase means 1 index increase\n",
    "indexmin= round(int((300+tmin)/4))\n",
    "i = 0\n",
    "\n",
    "for epoch in stimulus_epochs_Pz:\n",
    "    epoch = epoch.flatten()\n",
    "    epoch = epoch[indexmin:indexmax] \n",
    "    max = round(np.amax(epoch) * 1e6, 5)\n",
    "    latency = round(np.argmax(epoch)*4+tmin, 5)\n",
    "    stimulus_epochs.metadata.loc[i, 'Pz_max_voltage_manual'] = max\n",
    "    stimulus_epochs.metadata.loc[i, 'Pz_max_latency_manual'] = latency\n",
    "    channel = \"Pz\"\n",
    "    print('Trial {}: max of {} µV at {} ms in channel {}'\n",
    "          .format(i, max, latency, channel))\n",
    "    i +=1"
   ]
  },
  {
   "cell_type": "code",
   "execution_count": null,
   "id": "cc33fed0",
   "metadata": {},
   "outputs": [],
   "source": [
    "plt.title(\"max voltage\", fontsize=18)\n",
    "plt.xlabel(\"max voltage at Pz 250-1000ms post stimulus\")\n",
    "plt.ylabel(\"count\")\n",
    "bins = np.arange(stimulus_epochs.metadata['Pz_max_voltage_manual'].min(), stimulus_epochs.metadata['Pz_max_voltage_manual'].max()+1, 1)\n",
    "plt.xlim((-10, 40))\n",
    "plt.hist(stimulus_epochs.metadata['Pz_max_voltage_manual'], bins=bins)\n",
    "plt.show() "
   ]
  },
  {
   "cell_type": "code",
   "execution_count": null,
   "id": "7b7fa05e",
   "metadata": {},
   "outputs": [],
   "source": [
    "plt.title(\"latency\", fontsize=18)\n",
    "plt.xlabel(\"latency of max voltage at Pz 250-1000ms post stimulus\")\n",
    "plt.ylabel(\"count\")\n",
    "bins = np.arange(stimulus_epochs.metadata['Pz_max_latency_manual'].min(), stimulus_epochs.metadata['Pz_max_latency_manual'].max()+4, 4)\n",
    "plt.hist(stimulus_epochs.metadata['Pz_max_latency_manual'], bins=bins)\n",
    "plt.show() "
   ]
  },
  {
   "cell_type": "code",
   "execution_count": null,
   "id": "a538f6cf",
   "metadata": {},
   "outputs": [],
   "source": []
  },
  {
   "cell_type": "markdown",
   "id": "ce67a9ca",
   "metadata": {},
   "source": [
    "## Throw out edge artifact trials"
   ]
  },
  {
   "cell_type": "code",
   "execution_count": null,
   "id": "d2f9047c",
   "metadata": {
    "scrolled": true
   },
   "outputs": [],
   "source": [
    "print(\"Original number of trials: %i\" % len(stimulus_epochs))"
   ]
  },
  {
   "cell_type": "code",
   "execution_count": null,
   "id": "5b09111c",
   "metadata": {},
   "outputs": [],
   "source": [
    "stimulus_epochs_clear_peak = stimulus_epochs['Pz_max_latency > %i' % 254]\n",
    "a = len(stimulus_epochs_clear_peak)\n",
    "print(\"Number of trials excluded for just drifting down: %i\" % (len(stimulus_epochs) - a))"
   ]
  },
  {
   "cell_type": "code",
   "execution_count": null,
   "id": "2aaf6a80",
   "metadata": {
    "scrolled": true
   },
   "outputs": [],
   "source": [
    "stimulus_epochs_clear_peak = stimulus_epochs_clear_peak['Pz_max_latency < %i' % 996]\n",
    "print(\"Number of trials excluded for just drifting up: %i\" % (a - len(stimulus_epochs_clear_peak)))"
   ]
  },
  {
   "cell_type": "code",
   "execution_count": null,
   "id": "66e80cd8",
   "metadata": {
    "scrolled": true
   },
   "outputs": [],
   "source": [
    "plt.title(\"max voltage\", fontsize=18)\n",
    "plt.xlabel(\"max voltage at Pz 250-1000ms post stimulus\")\n",
    "plt.ylabel(\"count\")\n",
    "bins = np.arange(stimulus_epochs_clear_peak.metadata['Pz_max_voltage'].min(), stimulus_epochs_clear_peak.metadata['Pz_max_voltage'].max()+1, 1)\n",
    "plt.xlim((-10, 40))\n",
    "plt.hist(stimulus_epochs_clear_peak.metadata['Pz_max_voltage'], bins=bins)\n",
    "plt.show() "
   ]
  },
  {
   "cell_type": "code",
   "execution_count": null,
   "id": "10c25a88",
   "metadata": {
    "scrolled": true
   },
   "outputs": [],
   "source": [
    "print(\"Mean max voltage: %.2f \\n\\nMedian max voltage: %.2f \\n\\nMax max voltage: %.2f \\n\\nMin max voltage: %.2f \\n\" \n",
    "      % (np.mean(stimulus_epochs_clear_peak.metadata['Pz_max_voltage']), np.median(stimulus_epochs_clear_peak.metadata['Pz_max_voltage']),\n",
    "        np.max(stimulus_epochs_clear_peak.metadata['Pz_max_voltage']), np.min(stimulus_epochs_clear_peak.metadata['Pz_max_voltage'])))"
   ]
  },
  {
   "cell_type": "code",
   "execution_count": null,
   "id": "263dd343",
   "metadata": {},
   "outputs": [],
   "source": [
    "plt.title(\"latency\", fontsize=18)\n",
    "plt.xlabel(\"latency of max voltage at Pz 250-1000ms post stimulus\")\n",
    "plt.ylabel(\"count\")\n",
    "bins = np.arange(stimulus_epochs_clear_peak.metadata['Pz_max_latency'].min(), stimulus_epochs_clear_peak.metadata['Pz_max_latency'].max()+4, 4)\n",
    "plt.hist(stimulus_epochs_clear_peak.metadata['Pz_max_latency'], bins=bins)\n",
    "plt.show() "
   ]
  },
  {
   "cell_type": "code",
   "execution_count": null,
   "id": "7821dc9c",
   "metadata": {},
   "outputs": [],
   "source": [
    "print(\"Mean max voltage latency: %.2f ms post stimulus\\n \\nMedian max voltage latency: %.2f ms post stimulus \\n \\nMax max voltage latency: %.2f ms post stimulus \\n \\nMin max voltage latency: %.2f ms post stimulus \\n\" % \n",
    "      (np.mean(stimulus_epochs_clear_peak.metadata['Pz_max_latency']), np.median(stimulus_epochs_clear_peak.metadata['Pz_max_latency']),\n",
    "      np.max(stimulus_epochs_clear_peak.metadata['Pz_max_latency']), np.min(stimulus_epochs_clear_peak.metadata['Pz_max_latency'])))"
   ]
  },
  {
   "cell_type": "code",
   "execution_count": null,
   "id": "4c587254",
   "metadata": {},
   "outputs": [],
   "source": [
    "print(\"\\n----------------------- all participants -----------------------\\n\\n\")\n",
    "for condition in conditions:\n",
    "    condition_epochs = stimulus_epochs_clear_peak['condition == \"%s\"' %  condition]\n",
    "    if condition == \"ns\":\n",
    "        print(\"observational condition\")\n",
    "    else:\n",
    "        print(\"strategic condition\")\n",
    "    \n",
    "    for partner in partners:\n",
    "        partner_epochs = condition_epochs['partner == \"%s\"' %  partner]\n",
    "        x=partner_epochs.metadata['confidence_z_by_participant']\n",
    "        y=partner_epochs.metadata['Pz_max_voltage']\n",
    "        slope, intercept, r_value, p_value, std_err = stats.linregress(x,y)\n",
    "        line = slope*x+intercept\n",
    "        #plt.plot(x, line, label='{} y={:.2f}x+{:.2f}'.format(partner,slope,intercept))\n",
    "        plt.plot(x, line, label='%s' % partner)\n",
    "        plt.xlim(-4, 4)\n",
    "        plt.scatter(x,y, color=\"k\", s=2, alpha=0.2)\n",
    "        plt.legend(fontsize=13)\n",
    "        plt.xlabel(\"reported confidence z-scored by participant\")\n",
    "        plt.ylabel(\"max voltage at Pz\")\n",
    "    \n",
    "    plt.show()"
   ]
  },
  {
   "cell_type": "code",
   "execution_count": null,
   "id": "8ddc4d2b",
   "metadata": {
    "scrolled": true
   },
   "outputs": [],
   "source": [
    "for participant in participant_numbers:\n",
    "    participant_epochs = stimulus_epochs_clear_peak['participant == %i' %  participant]\n",
    "    print('\\033[1m' + \"\\n\\n----------------------- Participant %i -----------------------\\n\" % participant)\n",
    "    print('\\033[0m')\n",
    "    \n",
    "    for condition in conditions:\n",
    "        condition_epochs = participant_epochs['condition == \"%s\"' %  condition]\n",
    "        if condition == \"ns\":\n",
    "            print(\"observational condition\")\n",
    "        else:\n",
    "            print(\"strategic condition\")\n",
    "\n",
    "        for partner in partners:\n",
    "            partner_epochs = condition_epochs['partner == \"%s\"' %  partner]\n",
    "            \n",
    "            x=partner_epochs.metadata['participant_confidence']\n",
    "            y=partner_epochs.metadata['Pz_max_voltage']\n",
    "            \n",
    "            slope, intercept, r_value, p_value, std_err = stats.linregress(x,y)\n",
    "            line = slope*x+intercept\n",
    "            \n",
    "            #plt.plot(x, line, label='y={:.2f}x+{:.2f}'.format(slope,intercept))\n",
    "            plt.plot(x, line, label='%s' % partner)\n",
    "            plt.xlim(50, 100)\n",
    "            plt.scatter(x,y, color=\"k\", s=2, alpha=0.5)\n",
    "            plt.legend(fontsize=13)\n",
    "            plt.xlabel(\"reported confidence\")\n",
    "            plt.ylabel(\"max voltage at Pz\")\n",
    "            \n",
    "        plt.show()"
   ]
  },
  {
   "cell_type": "code",
   "execution_count": null,
   "id": "af8a6072",
   "metadata": {},
   "outputs": [],
   "source": [
    "correlations_list = []\n",
    "\n",
    "for participant in participant_numbers:\n",
    "    participant_epochs = stimulus_epochs_clear_peak['participant == %i' %  participant]\n",
    "    \n",
    "    for condition in conditions:\n",
    "        condition_epochs = participant_epochs['condition == \"%s\"' %  condition]\n",
    "\n",
    "        for partner in partners:\n",
    "            partner_epochs = condition_epochs['partner == \"%s\"' %  partner]\n",
    "            \n",
    "            corr, _ = stats.pearsonr(partner_epochs.metadata['Pz_max_voltage'], partner_epochs.metadata['participant_confidence'])\n",
    "            correlations_list.append(corr)\n",
    "            \n",
    "            \n",
    "print('Average correlation between max voltage at Pz and reported confidence: %.4f' % np.mean(correlations_list))            "
   ]
  },
  {
   "cell_type": "code",
   "execution_count": null,
   "id": "7c292dc9",
   "metadata": {
    "scrolled": true
   },
   "outputs": [],
   "source": [
    "correlations_list = []\n",
    "correct_voltage_list = []\n",
    "incorrect_voltage_list = []\n",
    "\n",
    "for participant in participant_numbers:\n",
    "    participant_epochs = stimulus_epochs_clear_peak['participant == %i' %  participant]\n",
    "    correct_epochs = participant_epochs['participant_correct == True']\n",
    "    correct_voltage_list.append(np.mean(correct_epochs.metadata['Pz_max_voltage']))\n",
    "    incorrect_epochs = participant_epochs['participant_correct == False']\n",
    "    incorrect_voltage_list.append(np.mean(incorrect_epochs.metadata['Pz_max_voltage']))\n",
    "    \n",
    "    for condition in conditions:\n",
    "        condition_epochs = participant_epochs['condition == \"%s\"' %  condition]\n",
    "\n",
    "        for partner in partners:\n",
    "            partner_epochs = condition_epochs['partner == \"%s\"' %  partner]\n",
    "            \n",
    "            corr, _ = stats.pointbiserialr(partner_epochs.metadata['Pz_max_voltage'], partner_epochs.metadata['participant_correct'])\n",
    "            correlations_list.append(corr)\n",
    "            \n",
    "            \n",
    "print('\\nAverage point biserial correlation between max voltage at Pz and accuracy: %.4f' % np.mean(correlations_list))  \n",
    "print('\\nAverage max voltage on correct trials: %.4f' % np.mean(correct_voltage_list))\n",
    "print('\\nAverage max voltage on inorrect trials: %.4f' % np.mean(incorrect_voltage_list))"
   ]
  },
  {
   "cell_type": "code",
   "execution_count": null,
   "id": "8f7ded45",
   "metadata": {},
   "outputs": [],
   "source": [
    "correct_epochs = stimulus_epochs_clear_peak['participant_correct == True']\n",
    "incorrect_epochs = stimulus_epochs_clear_peak['participant_correct == False']\n",
    "x1 = correct_epochs.metadata['Pz_max_voltage']\n",
    "x2 = incorrect_epochs.metadata['Pz_max_voltage']\n",
    "\n",
    "plt.title(\"max voltage\", fontsize=18)\n",
    "plt.xlabel(\"max voltage at Pz 250-1000ms post stimulus\")\n",
    "plt.ylabel(\"count\")\n",
    "bins = np.arange(stimulus_epochs.metadata['Pz_max_voltage'].min(), stimulus_epochs.metadata['Pz_max_voltage'].max()+1, 1)\n",
    "plt.xlim((-10, 40))\n",
    "plt.hist(x1, bins=bins, alpha=0.5, color='green', label='correct trials')\n",
    "plt.axvline(x1.mean(), color='green', linestyle='dashed', linewidth=2)\n",
    "plt.text(s='%.2f' % x1.mean(), y=520, x=x1.mean()+2, color='green')\n",
    "plt.hist(x2, bins=bins, alpha=0.5, color='red', label='incorrect trials')\n",
    "plt.axvline(x2.mean(), color='red', linestyle='dashed', linewidth=2)\n",
    "plt.text(s='%.2f' % x2.mean(), y=520, x=x2.mean()-6, color='red')\n",
    "plt.legend()\n",
    "plt.show() "
   ]
  },
  {
   "cell_type": "markdown",
   "id": "ab125207",
   "metadata": {},
   "source": [
    "## "
   ]
  },
  {
   "cell_type": "markdown",
   "id": "c773add9",
   "metadata": {},
   "source": [
    "## Calculate highest peak amplitude and latency post stimulus at Pz"
   ]
  },
  {
   "cell_type": "markdown",
   "id": "5008c9cd",
   "metadata": {},
   "source": [
    "### i.e. instead of looking for the max voltage we look for peaks and take the highest one"
   ]
  },
  {
   "cell_type": "code",
   "execution_count": null,
   "id": "c6822611",
   "metadata": {},
   "outputs": [],
   "source": [
    "tmax = 1000\n",
    "tmin = 250\n",
    "\n",
    "indexmax = round(int((300+tmax)/4)) # index 0 is at -300ms; to convert index to ms, conider that this is at 250Hz, i.e. 4ms increase means 1 index increase\n",
    "indexmin= round(int((300+tmin)/4))\n",
    "i = 0\n",
    "\n",
    "for epoch in stimulus_epochs_Pz:\n",
    "    epoch = epoch.flatten()\n",
    "    epoch = epoch[indexmin:indexmax] \n",
    "    indexes, properties = signal.find_peaks(epoch, height=[-100, 100])\n",
    "    highest_peak = round(np.amax(properties['peak_heights']) * 1e6, 5) \n",
    "    latency = round(indexes[np.argmax(properties['peak_heights'])]*4+tmin, 5)\n",
    "    number_of_peaks = len(indexes)\n",
    "    stimulus_epochs.metadata.loc[i, 'Pz_highest_peak_voltage'] = highest_peak\n",
    "    stimulus_epochs.metadata.loc[i, 'Pz_highest_peak_latency'] = latency\n",
    "    stimulus_epochs.metadata.loc[i, 'Pz_number_of_peaks'] = number_of_peaks\n",
    "    channel = \"Pz\"\n",
    "    print('Trial {}: highest peak of {} µV at {} ms in channel {}'\n",
    "          .format(i, highest_peak, latency, channel))\n",
    "    i +=1\n",
    "\n"
   ]
  },
  {
   "cell_type": "code",
   "execution_count": null,
   "id": "7d04f496",
   "metadata": {},
   "outputs": [],
   "source": [
    "plt.title(\"number of peaks\", fontsize=18)\n",
    "plt.xlabel(\"number of peaks at Pz 250-1000ms post stimulus\")\n",
    "plt.ylabel(\"count\")\n",
    "bins = np.arange(stimulus_epochs.metadata['Pz_number_of_peaks'].min(), stimulus_epochs.metadata['Pz_number_of_peaks'].max()+1, 1)\n",
    "plt.hist(stimulus_epochs.metadata['Pz_number_of_peaks'], bins=bins)\n",
    "plt.show() "
   ]
  },
  {
   "cell_type": "code",
   "execution_count": null,
   "id": "7f476ecf",
   "metadata": {
    "scrolled": false
   },
   "outputs": [],
   "source": [
    "plt.title(\"highest peak voltage\", fontsize=18)\n",
    "plt.xlabel(\"highest peak voltage at Pz 250-1000ms post stimulus\")\n",
    "plt.ylabel(\"count\")\n",
    "bins = np.arange(stimulus_epochs.metadata['Pz_highest_peak_voltage'].min(), stimulus_epochs.metadata['Pz_highest_peak_voltage'].max()+1, 1)\n",
    "plt.xlim((-30, 60))\n",
    "plt.hist(stimulus_epochs.metadata['Pz_highest_peak_voltage'], bins=bins)\n",
    "plt.show() "
   ]
  },
  {
   "cell_type": "code",
   "execution_count": null,
   "id": "46f38efc",
   "metadata": {},
   "outputs": [],
   "source": [
    "stimulus_epochs.metadata['Pz_highest_peak_voltage']"
   ]
  },
  {
   "cell_type": "code",
   "execution_count": null,
   "id": "8dc92f76",
   "metadata": {
    "scrolled": true
   },
   "outputs": [],
   "source": [
    "print(\"Mean highest peak voltage: %.2f \\n\\nMedian highest peak voltage: %.2f \\n\\nMax highest peak voltage: %.2f \\n\\nMin highest peak voltage: %.2f \\n\" \n",
    "      % (np.mean(stimulus_epochs.metadata['Pz_highest_peak_voltage']), np.median(stimulus_epochs.metadata['Pz_highest_peak_voltage']),\n",
    "        np.max(stimulus_epochs.metadata['Pz_highest_peak_voltage']), np.min(stimulus_epochs.metadata['Pz_highest_peak_voltage'])))"
   ]
  },
  {
   "cell_type": "code",
   "execution_count": null,
   "id": "e583c447",
   "metadata": {},
   "outputs": [],
   "source": [
    "plt.title(\"latency\", fontsize=18)\n",
    "plt.xlabel(\"latency of highest peak at Pz 250-1000ms post stimulus\")\n",
    "plt.ylabel(\"count\")\n",
    "bins = np.arange(stimulus_epochs.metadata['Pz_highest_peak_latency'].min(), stimulus_epochs.metadata['Pz_highest_peak_latency'].max()+4, 4)\n",
    "plt.hist(stimulus_epochs.metadata['Pz_highest_peak_latency'], bins=bins)\n",
    "plt.show() "
   ]
  },
  {
   "cell_type": "code",
   "execution_count": null,
   "id": "8b7fb657",
   "metadata": {},
   "outputs": [],
   "source": [
    "print(\"Mean highest peak latency: %.2f ms post stimulus\\n \\nMedian highest peak latency: %.2f ms post stimulus \\n \\nMax highest peak latency: %.2f ms post stimulus \\n \\nMin highest peak latency: %.2f ms post stimulus \\n\" % \n",
    "      (np.mean(stimulus_epochs.metadata['Pz_highest_peak_latency']), np.median(stimulus_epochs.metadata['Pz_highest_peak_latency']),\n",
    "      np.max(stimulus_epochs.metadata['Pz_highest_peak_latency']), np.min(stimulus_epochs.metadata['Pz_highest_peak_latency'])))"
   ]
  },
  {
   "cell_type": "code",
   "execution_count": null,
   "id": "d3b00c68",
   "metadata": {},
   "outputs": [],
   "source": [
    "print(\"\\n----------------------- all participants -----------------------\\n\\n\")\n",
    "for condition in conditions:\n",
    "    condition_epochs = stimulus_epochs['condition == \"%s\"' %  condition]\n",
    "    if condition == \"ns\":\n",
    "        print(\"observational condition\")\n",
    "    else:\n",
    "        print(\"strategic condition\")\n",
    "    \n",
    "    for partner in partners:\n",
    "        partner_epochs = condition_epochs['partner == \"%s\"' %  partner]\n",
    "        x=partner_epochs.metadata['confidence_z_by_participant']\n",
    "        y=partner_epochs.metadata['Pz_highest_peak_voltage']\n",
    "        slope, intercept, r_value, p_value, std_err = stats.linregress(x,y)\n",
    "        line = slope*x+intercept\n",
    "        #plt.plot(x, line, label='{} y={:.2f}x+{:.2f}'.format(partner,slope,intercept))\n",
    "        plt.plot(x, line, label='%s' % partner)\n",
    "        plt.xlim(-4, 4)\n",
    "        plt.scatter(x,y, color=\"k\", s=2, alpha=0.2)\n",
    "        plt.legend(fontsize=13)\n",
    "        plt.xlabel(\"reported confidence z-scored by participant\")\n",
    "        plt.ylabel(\"highest peak voltage at Pz\")\n",
    "    \n",
    "    plt.show()"
   ]
  },
  {
   "cell_type": "code",
   "execution_count": null,
   "id": "f34a3f7b",
   "metadata": {
    "scrolled": true
   },
   "outputs": [],
   "source": [
    "for participant in participant_numbers:\n",
    "    participant_epochs = stimulus_epochs['participant == %i' %  participant]\n",
    "    print('\\033[1m' + \"\\n\\n----------------------- Participant %i -----------------------\\n\" % participant)\n",
    "    print('\\033[0m')\n",
    "    \n",
    "    for condition in conditions:\n",
    "        condition_epochs = participant_epochs['condition == \"%s\"' %  condition]\n",
    "        if condition == \"ns\":\n",
    "            print(\"observational condition\")\n",
    "        else:\n",
    "            print(\"strategic condition\")\n",
    "\n",
    "        for partner in partners:\n",
    "            partner_epochs = condition_epochs['partner == \"%s\"' %  partner]\n",
    "            \n",
    "            x=partner_epochs.metadata['participant_confidence']\n",
    "            y=partner_epochs.metadata['Pz_highest_peak_voltage']\n",
    "            \n",
    "            slope, intercept, r_value, p_value, std_err = stats.linregress(x,y)\n",
    "            line = slope*x+intercept\n",
    "            \n",
    "            #plt.plot(x, line, label='y={:.2f}x+{:.2f}'.format(slope,intercept))\n",
    "            plt.plot(x, line, label='%s' % partner)\n",
    "            plt.xlim(50, 100)\n",
    "            plt.scatter(x,y, color=\"k\", s=2, alpha=0.5)\n",
    "            plt.legend(fontsize=13)\n",
    "            plt.xlabel(\"reported confidence\")\n",
    "            plt.ylabel(\"highest peak voltage at Pz\")\n",
    "            \n",
    "        plt.show()"
   ]
  },
  {
   "cell_type": "code",
   "execution_count": null,
   "id": "f4301477",
   "metadata": {
    "scrolled": true
   },
   "outputs": [],
   "source": [
    "correlations_list = []\n",
    "\n",
    "for participant in participant_numbers:\n",
    "    participant_epochs = stimulus_epochs['participant == %i' %  participant]\n",
    "    \n",
    "    for condition in conditions:\n",
    "        condition_epochs = participant_epochs['condition == \"%s\"' %  condition]\n",
    "\n",
    "        for partner in partners:\n",
    "            partner_epochs = condition_epochs['partner == \"%s\"' %  partner]\n",
    "            \n",
    "            corr, _ = stats.pearsonr(partner_epochs.metadata['Pz_highest_peak_voltage'], partner_epochs.metadata['participant_confidence'])\n",
    "            correlations_list.append(corr)\n",
    "            \n",
    "            \n",
    "print('Average correlation between highest peak voltage at Pz and reported confidence: %.4f' % np.mean(correlations_list))            "
   ]
  },
  {
   "cell_type": "code",
   "execution_count": null,
   "id": "039f6895",
   "metadata": {},
   "outputs": [],
   "source": [
    "correlations_list"
   ]
  },
  {
   "cell_type": "code",
   "execution_count": null,
   "id": "90f5dcfe",
   "metadata": {},
   "outputs": [],
   "source": [
    "correlations_list = []\n",
    "correct_voltage_list = []\n",
    "incorrect_voltage_list = []\n",
    "\n",
    "for participant in participant_numbers:\n",
    "    participant_epochs = stimulus_epochs['participant == %i' %  participant]\n",
    "    correct_epochs = participant_epochs['participant_correct == True']\n",
    "    correct_voltage_list.append(np.mean(correct_epochs.metadata['Pz_highest_peak_voltage']))\n",
    "    incorrect_epochs = participant_epochs['participant_correct == False']\n",
    "    incorrect_voltage_list.append(np.mean(incorrect_epochs.metadata['Pz_highest_peak_voltage']))\n",
    "    \n",
    "    for condition in conditions:\n",
    "        condition_epochs = participant_epochs['condition == \"%s\"' %  condition]\n",
    "\n",
    "        for partner in partners:\n",
    "            partner_epochs = condition_epochs['partner == \"%s\"' %  partner]\n",
    "            \n",
    "            corr, _ = stats.pointbiserialr(partner_epochs.metadata['Pz_highest_peak_voltage'], partner_epochs.metadata['participant_correct'])\n",
    "            correlations_list.append(corr)\n",
    "            \n",
    "            \n",
    "print('\\nAverage point biserial correlation between highest peak voltage at Pz and accuracy: %.4f' % np.mean(correlations_list))  \n",
    "print('\\nAverage highest peak voltage on correct trials: %.4f' % np.mean(correct_voltage_list))\n",
    "print('\\nAverage highest peak voltage on inorrect trials: %.4f' % np.mean(incorrect_voltage_list))"
   ]
  },
  {
   "cell_type": "code",
   "execution_count": null,
   "id": "426a2af8",
   "metadata": {},
   "outputs": [],
   "source": [
    "correct_epochs = stimulus_epochs['participant_correct == True']\n",
    "incorrect_epochs = stimulus_epochs['participant_correct == False']\n",
    "x1 = correct_epochs.metadata['Pz_highest_peak_voltage']\n",
    "x2 = incorrect_epochs.metadata['Pz_highest_peak_voltage']\n",
    "\n",
    "plt.title(\"highest peak voltage\", fontsize=18)\n",
    "plt.xlabel(\"highest peak voltage at Pz 250-1000ms post stimulus\")\n",
    "plt.ylabel(\"count\")\n",
    "bins = np.arange(stimulus_epochs.metadata['Pz_highest_peak_voltage'].min(), stimulus_epochs.metadata['Pz_highest_peak_voltage'].max()+1, 1)\n",
    "plt.xlim((-10, 40))\n",
    "plt.hist(x1, bins=bins, alpha=0.5, color='green', label='correct trials')\n",
    "plt.axvline(x1.mean(), color='green', linestyle='dashed', linewidth=2)\n",
    "plt.text(s='%.2f' % x1.mean(), y=620, x=x1.mean()+2, color='green')\n",
    "plt.hist(x2, bins=bins, alpha=0.5, color='red', label='incorrect trials')\n",
    "plt.axvline(x2.mean(), color='red', linestyle='dashed', linewidth=2)\n",
    "plt.text(s='%.2f' % x2.mean(), y=620, x=x2.mean()-6, color='red')\n",
    "plt.legend()\n",
    "plt.show() "
   ]
  },
  {
   "cell_type": "markdown",
   "id": "d902288e",
   "metadata": {},
   "source": [
    "## "
   ]
  },
  {
   "cell_type": "markdown",
   "id": "cb6094c7",
   "metadata": {},
   "source": [
    "## Calculate first peak amplitude and latency post stimulus at Pz"
   ]
  },
  {
   "cell_type": "markdown",
   "id": "1febf934",
   "metadata": {},
   "source": [
    "### i.e. instead of looking for the max voltage we look for peaks and take the first one"
   ]
  },
  {
   "cell_type": "code",
   "execution_count": null,
   "id": "2cc7d948",
   "metadata": {},
   "outputs": [],
   "source": [
    "tmax = 1000\n",
    "tmin = 250\n",
    "\n",
    "indexmax = round(int((300+tmax)/4)) # index 0 is at -300ms; to convert index to ms, conider that this is at 250Hz, i.e. 4ms increase means 1 index increase\n",
    "indexmin= round(int((300+tmin)/4))\n",
    "i = 0\n",
    "\n",
    "for epoch in stimulus_epochs_Pz:\n",
    "    epoch = epoch.flatten()\n",
    "    epoch = epoch[indexmin:indexmax] \n",
    "    indexes, properties = signal.find_peaks(epoch, height=[-100, 100])\n",
    "    first_peak = round(properties['peak_heights'][0] * 1e6, 5)\n",
    "    latency = round(indexes[0]*4+tmin, 5)\n",
    "    stimulus_epochs.metadata.loc[i, 'Pz_first_peak_voltage'] = first_peak\n",
    "    stimulus_epochs.metadata.loc[i, 'Pz_first_peak_latency'] = latency\n",
    "    channel = \"Pz\"\n",
    "    print('Trial {}: first peak of {} µV at {} ms in channel {}'\n",
    "          .format(i, first_peak, latency, channel))\n",
    "    i +=1\n",
    "\n"
   ]
  },
  {
   "cell_type": "code",
   "execution_count": null,
   "id": "6c677210",
   "metadata": {
    "scrolled": false
   },
   "outputs": [],
   "source": [
    "plt.title(\"first peak voltage\", fontsize=18)\n",
    "plt.xlabel(\"first peak voltage at Pz 250-1000ms post stimulus\")\n",
    "plt.ylabel(\"count\")\n",
    "bins = np.arange(stimulus_epochs.metadata['Pz_first_peak_voltage'].min(), stimulus_epochs.metadata['Pz_first_peak_voltage'].max()+1, 1)\n",
    "plt.xlim((-10, 40))\n",
    "plt.hist(stimulus_epochs.metadata['Pz_first_peak_voltage'], bins=bins)\n",
    "plt.show() "
   ]
  },
  {
   "cell_type": "code",
   "execution_count": null,
   "id": "fa6bed3e",
   "metadata": {
    "scrolled": true
   },
   "outputs": [],
   "source": [
    "print(\"Mean first peak voltage: %.2f \\n\\nMedian first peak voltage: %.2f \\n\\nMax first peak voltage: %.2f \\n\\nMin first peak voltage: %.2f \\n\" \n",
    "      % (np.mean(stimulus_epochs.metadata['Pz_first_peak_voltage']), np.median(stimulus_epochs.metadata['Pz_first_peak_voltage']),\n",
    "        np.max(stimulus_epochs.metadata['Pz_first_peak_voltage']), np.min(stimulus_epochs.metadata['Pz_first_peak_voltage'])))"
   ]
  },
  {
   "cell_type": "code",
   "execution_count": null,
   "id": "5e4df5fd",
   "metadata": {},
   "outputs": [],
   "source": [
    "plt.title(\"latency\", fontsize=18)\n",
    "plt.xlabel(\"latency of first peak at Pz 250-1000ms post stimulus\")\n",
    "plt.ylabel(\"count\")\n",
    "bins = np.arange(stimulus_epochs.metadata['Pz_first_peak_latency'].min(), stimulus_epochs.metadata['Pz_first_peak_latency'].max()+4, 4)\n",
    "plt.hist(stimulus_epochs.metadata['Pz_first_peak_latency'], bins=bins)\n",
    "plt.show() "
   ]
  },
  {
   "cell_type": "code",
   "execution_count": null,
   "id": "bd01d3da",
   "metadata": {},
   "outputs": [],
   "source": [
    "print(\"Mean first peak latency: %.2f ms post stimulus\\n \\nMedian first peak latency: %.2f ms post stimulus \\n \\nMax first peak latency: %.2f ms post stimulus \\n \\nMin first peak latency: %.2f ms post stimulus \\n\" % \n",
    "      (np.mean(stimulus_epochs.metadata['Pz_first_peak_latency']), np.median(stimulus_epochs.metadata['Pz_first_peak_latency']),\n",
    "      np.max(stimulus_epochs.metadata['Pz_first_peak_latency']), np.min(stimulus_epochs.metadata['Pz_first_peak_latency'])))"
   ]
  },
  {
   "cell_type": "code",
   "execution_count": null,
   "id": "b15eedb2",
   "metadata": {},
   "outputs": [],
   "source": [
    "print(\"\\n----------------------- all participants -----------------------\\n\\n\")\n",
    "for condition in conditions:\n",
    "    condition_epochs = stimulus_epochs['condition == \"%s\"' %  condition]\n",
    "    if condition == \"ns\":\n",
    "        print(\"observational condition\")\n",
    "    else:\n",
    "        print(\"strategic condition\")\n",
    "    \n",
    "    for partner in partners:\n",
    "        partner_epochs = condition_epochs['partner == \"%s\"' %  partner]\n",
    "        x=partner_epochs.metadata['confidence_z_by_participant']\n",
    "        y=partner_epochs.metadata['Pz_first_peak_voltage']\n",
    "        slope, intercept, r_value, p_value, std_err = stats.linregress(x,y)\n",
    "        line = slope*x+intercept\n",
    "        #plt.plot(x, line, label='{} y={:.2f}x+{:.2f}'.format(partner,slope,intercept))\n",
    "        plt.plot(x, line, label='%s' % partner)\n",
    "        plt.xlim(-4, 4)\n",
    "        plt.scatter(x,y, color=\"k\", s=2, alpha=0.2)\n",
    "        plt.legend(fontsize=13)\n",
    "        plt.xlabel(\"reported confidence z-scored by participant\")\n",
    "        plt.ylabel(\"first peak voltage at Pz\")\n",
    "    \n",
    "    plt.show()"
   ]
  },
  {
   "cell_type": "code",
   "execution_count": null,
   "id": "540719b5",
   "metadata": {},
   "outputs": [],
   "source": [
    "for participant in participant_numbers:\n",
    "    participant_epochs = stimulus_epochs['participant == %i' %  participant]\n",
    "    print('\\033[1m' + \"\\n\\n----------------------- Participant %i -----------------------\\n\" % participant)\n",
    "    print('\\033[0m')\n",
    "    \n",
    "    for condition in conditions:\n",
    "        condition_epochs = participant_epochs['condition == \"%s\"' %  condition]\n",
    "        if condition == \"ns\":\n",
    "            print(\"observational condition\")\n",
    "        else:\n",
    "            print(\"strategic condition\")\n",
    "\n",
    "        for partner in partners:\n",
    "            partner_epochs = condition_epochs['partner == \"%s\"' %  partner]\n",
    "            \n",
    "            x=partner_epochs.metadata['participant_confidence']\n",
    "            y=partner_epochs.metadata['Pz_first_peak_voltage']\n",
    "            \n",
    "            slope, intercept, r_value, p_value, std_err = stats.linregress(x,y)\n",
    "            line = slope*x+intercept\n",
    "            \n",
    "            #plt.plot(x, line, label='y={:.2f}x+{:.2f}'.format(slope,intercept))\n",
    "            plt.plot(x, line, label='%s' % partner)\n",
    "            plt.xlim(50, 100)\n",
    "            plt.scatter(x,y, color=\"k\", s=2, alpha=0.5)\n",
    "            plt.legend(fontsize=13)\n",
    "            plt.xlabel(\"reported confidence\")\n",
    "            plt.ylabel(\"first peak voltage at Pz\")\n",
    "            \n",
    "        plt.show()"
   ]
  },
  {
   "cell_type": "code",
   "execution_count": null,
   "id": "a0278cec",
   "metadata": {
    "scrolled": true
   },
   "outputs": [],
   "source": [
    "correlations_list = []\n",
    "\n",
    "for participant in participant_numbers:\n",
    "    participant_epochs = stimulus_epochs['participant == %i' %  participant]\n",
    "    \n",
    "    for condition in conditions:\n",
    "        condition_epochs = participant_epochs['condition == \"%s\"' %  condition]\n",
    "\n",
    "        for partner in partners:\n",
    "            partner_epochs = condition_epochs['partner == \"%s\"' %  partner]\n",
    "            \n",
    "            corr, _ = stats.pearsonr(partner_epochs.metadata['Pz_first_peak_voltage'], partner_epochs.metadata['participant_confidence'])\n",
    "            correlations_list.append(corr)\n",
    "            \n",
    "            \n",
    "print('Average correlation between first peak voltage at Pz and reported confidence: %.4f' % np.mean(correlations_list))            "
   ]
  },
  {
   "cell_type": "code",
   "execution_count": null,
   "id": "cdcfefd8",
   "metadata": {},
   "outputs": [],
   "source": [
    "correlations_list"
   ]
  },
  {
   "cell_type": "code",
   "execution_count": null,
   "id": "23adf1d3",
   "metadata": {
    "scrolled": true
   },
   "outputs": [],
   "source": [
    "correlations_list = []\n",
    "correct_voltage_list = []\n",
    "incorrect_voltage_list = []\n",
    "\n",
    "for participant in participant_numbers:\n",
    "    participant_epochs = stimulus_epochs['participant == %i' %  participant]\n",
    "    correct_epochs = participant_epochs['participant_correct == True']\n",
    "    correct_voltage_list.append(np.mean(correct_epochs.metadata['Pz_first_peak_voltage']))\n",
    "    incorrect_epochs = participant_epochs['participant_correct == False']\n",
    "    incorrect_voltage_list.append(np.mean(incorrect_epochs.metadata['Pz_first_peak_voltage']))\n",
    "    \n",
    "    for condition in conditions:\n",
    "        condition_epochs = participant_epochs['condition == \"%s\"' %  condition]\n",
    "\n",
    "        for partner in partners:\n",
    "            partner_epochs = condition_epochs['partner == \"%s\"' %  partner]\n",
    "            \n",
    "            corr, _ = stats.pointbiserialr(partner_epochs.metadata['Pz_first_peak_voltage'], partner_epochs.metadata['participant_correct'])\n",
    "            correlations_list.append(corr)\n",
    "            \n",
    "            \n",
    "print('\\nAverage point biserial correlation between first peak voltage at Pz and accuracy: %.4f' % np.mean(correlations_list))  \n",
    "print('\\nAverage first peak voltage on correct trials: %.4f' % np.mean(correct_voltage_list))\n",
    "print('\\nAverage first peak voltage on inorrect trials: %.4f' % np.mean(incorrect_voltage_list))"
   ]
  },
  {
   "cell_type": "code",
   "execution_count": null,
   "id": "389450dc",
   "metadata": {},
   "outputs": [],
   "source": [
    "correct_epochs = stimulus_epochs['participant_correct == True']\n",
    "incorrect_epochs = stimulus_epochs['participant_correct == False']\n",
    "x1 = correct_epochs.metadata['Pz_first_peak_voltage']\n",
    "x2 = incorrect_epochs.metadata['Pz_first_peak_voltage']\n",
    "\n",
    "plt.title(\"first peak voltage\", fontsize=18)\n",
    "plt.xlabel(\"first peak voltage at Pz 250-1000ms post stimulus\")\n",
    "plt.ylabel(\"count\")\n",
    "bins = np.arange(stimulus_epochs.metadata['Pz_first_peak_voltage'].min(), stimulus_epochs.metadata['Pz_first_peak_voltage'].max()+1, 1)\n",
    "plt.xlim((-10, 40))\n",
    "plt.hist(x1, bins=bins, alpha=0.5, color='green', label='correct trials')\n",
    "plt.axvline(x1.mean(), color='green', linestyle='dashed', linewidth=2)\n",
    "plt.text(s='%.2f' % x1.mean(), y=520, x=x1.mean()+2, color='green')\n",
    "plt.hist(x2, bins=bins, alpha=0.5, color='red', label='incorrect trials')\n",
    "plt.axvline(x2.mean(), color='red', linestyle='dashed', linewidth=2)\n",
    "plt.text(s='%.2f' % x2.mean(), y=520, x=x2.mean()-6, color='red')\n",
    "plt.legend()\n",
    "plt.show() "
   ]
  },
  {
   "cell_type": "markdown",
   "id": "f470398c",
   "metadata": {},
   "source": [
    "## "
   ]
  },
  {
   "cell_type": "markdown",
   "id": "4f889280",
   "metadata": {},
   "source": [
    "## Calculate average voltage post stimulus at Pz"
   ]
  },
  {
   "cell_type": "code",
   "execution_count": null,
   "id": "aa37d67b",
   "metadata": {},
   "outputs": [],
   "source": [
    "tmax = 1000\n",
    "tmin = 250\n",
    "\n",
    "indexmax = round(int((300+tmax)/4)) # index 0 is at -300ms; to convert index to ms, conider that this is at 250Hz, i.e. 4ms increase means 1 index increase\n",
    "indexmin= round(int((300+tmin)/4))\n",
    "i = 0\n",
    "\n",
    "for epoch in stimulus_epochs_Pz:\n",
    "    epoch = epoch.flatten()\n",
    "    epoch = epoch[indexmin:indexmax] \n",
    "    average = round(np.mean(epoch) * 1e6, 5)\n",
    "    stimulus_epochs.metadata.loc[i, 'Pz_average_voltage_250_1000'] = average\n",
    "    channel = \"Pz\"\n",
    "    print('Trial {}: average of {} µV in channel {}'\n",
    "          .format(i, average, channel))\n",
    "    i +=1\n"
   ]
  },
  {
   "cell_type": "code",
   "execution_count": null,
   "id": "0bd16d49",
   "metadata": {
    "scrolled": false
   },
   "outputs": [],
   "source": [
    "plt.title(\"average voltage\", fontsize=18)\n",
    "plt.xlabel(\"avergae voltage at Pz 250-1000ms post stimulus\")\n",
    "plt.ylabel(\"count\")\n",
    "bins = np.arange(stimulus_epochs.metadata['Pz_average_voltage_250_1000'].min(), stimulus_epochs.metadata['Pz_average_voltage_250_1000'].max()+1, 1)\n",
    "plt.xlim((-10, 40))\n",
    "plt.hist(stimulus_epochs.metadata['Pz_average_voltage_250_1000'], bins=bins)\n",
    "plt.show() "
   ]
  },
  {
   "cell_type": "code",
   "execution_count": null,
   "id": "5d104027",
   "metadata": {
    "scrolled": true
   },
   "outputs": [],
   "source": [
    "print(\"Mean average voltage peak voltage: %.2f \\n\\nMedian average voltage peak voltage: %.2f \\n\\nMax average voltage peak voltage: %.2f \\n\\nMin average voltage peak voltage: %.2f \\n\" \n",
    "      % (np.mean(stimulus_epochs.metadata['Pz_average_voltage_250_1000']), np.median(stimulus_epochs.metadata['Pz_average_voltage_250_1000']),\n",
    "        np.max(stimulus_epochs.metadata['Pz_average_voltage_250_1000']), np.min(stimulus_epochs.metadata['Pz_average_voltage_250_1000'])))"
   ]
  },
  {
   "cell_type": "code",
   "execution_count": null,
   "id": "6a06e554",
   "metadata": {},
   "outputs": [],
   "source": [
    "print(\"\\n----------------------- all participants -----------------------\\n\\n\")\n",
    "for condition in conditions:\n",
    "    condition_epochs = stimulus_epochs['condition == \"%s\"' %  condition]\n",
    "    if condition == \"ns\":\n",
    "        print(\"observational condition\")\n",
    "    else:\n",
    "        print(\"strategic condition\")\n",
    "    \n",
    "    for partner in partners:\n",
    "        partner_epochs = condition_epochs['partner == \"%s\"' %  partner]\n",
    "        x=partner_epochs.metadata['confidence_z_by_participant']\n",
    "        y=partner_epochs.metadata['Pz_average_voltage_250_1000']\n",
    "        slope, intercept, r_value, p_value, std_err = stats.linregress(x,y)\n",
    "        line = slope*x+intercept\n",
    "        #plt.plot(x, line, label='{} y={:.2f}x+{:.2f}'.format(partner,slope,intercept))\n",
    "        plt.plot(x, line, label='%s' % partner)\n",
    "        plt.xlim(-4, 4)\n",
    "        plt.scatter(x,y, color=\"k\", s=2, alpha=0.2)\n",
    "        plt.legend(fontsize=13)\n",
    "        plt.xlabel(\"reported confidence z-scored by participant\")\n",
    "        plt.ylabel(\"average voltage at Pz\")\n",
    "    \n",
    "    plt.show()"
   ]
  },
  {
   "cell_type": "code",
   "execution_count": null,
   "id": "c4041ca0",
   "metadata": {
    "scrolled": true
   },
   "outputs": [],
   "source": [
    "for participant in participant_numbers:\n",
    "    participant_epochs = stimulus_epochs['participant == %i' %  participant]\n",
    "    print('\\033[1m' + \"\\n\\n----------------------- Participant %i -----------------------\\n\" % participant)\n",
    "    print('\\033[0m')\n",
    "    \n",
    "    for condition in conditions:\n",
    "        condition_epochs = participant_epochs['condition == \"%s\"' %  condition]\n",
    "        if condition == \"ns\":\n",
    "            print(\"observational condition\")\n",
    "        else:\n",
    "            print(\"strategic condition\")\n",
    "\n",
    "        for partner in partners:\n",
    "            partner_epochs = condition_epochs['partner == \"%s\"' %  partner]\n",
    "            \n",
    "            x=partner_epochs.metadata['participant_confidence']\n",
    "            y=partner_epochs.metadata['Pz_average_voltage_250_1000']\n",
    "            \n",
    "            slope, intercept, r_value, p_value, std_err = stats.linregress(x,y)\n",
    "            line = slope*x+intercept\n",
    "            \n",
    "            #plt.plot(x, line, label='y={:.2f}x+{:.2f}'.format(slope,intercept))\n",
    "            plt.plot(x, line, label='%s' % partner)\n",
    "            plt.xlim(50, 100)\n",
    "            plt.scatter(x,y, color=\"k\", s=2, alpha=0.5)\n",
    "            plt.legend(fontsize=13)\n",
    "            plt.xlabel(\"reported confidence\")\n",
    "            plt.ylabel(\"average voltage at Pz\")\n",
    "            \n",
    "        plt.show()"
   ]
  },
  {
   "cell_type": "code",
   "execution_count": null,
   "id": "d244f5d8",
   "metadata": {},
   "outputs": [],
   "source": [
    "correlations_list = []\n",
    "\n",
    "for participant in participant_numbers:\n",
    "    participant_epochs = stimulus_epochs['participant == %i' %  participant]\n",
    "    \n",
    "    for condition in conditions:\n",
    "        condition_epochs = participant_epochs['condition == \"%s\"' %  condition]\n",
    "\n",
    "        for partner in partners:\n",
    "            partner_epochs = condition_epochs['partner == \"%s\"' %  partner]\n",
    "            \n",
    "            corr, _ = stats.pearsonr(partner_epochs.metadata['Pz_average_voltage_250_1000'], partner_epochs.metadata['participant_confidence'])\n",
    "            correlations_list.append(corr)\n",
    "            \n",
    "            \n",
    "print('Average correlation between average voltage at Pz and reported confidence: %.4f' % np.mean(correlations_list))            "
   ]
  },
  {
   "cell_type": "code",
   "execution_count": null,
   "id": "b5ff365a",
   "metadata": {
    "scrolled": true
   },
   "outputs": [],
   "source": [
    "correlations_list = []\n",
    "correct_voltage_list = []\n",
    "incorrect_voltage_list = []\n",
    "\n",
    "for participant in participant_numbers:\n",
    "    participant_epochs = stimulus_epochs['participant == %i' %  participant]\n",
    "    correct_epochs = participant_epochs['participant_correct == True']\n",
    "    correct_voltage_list.append(np.mean(correct_epochs.metadata['Pz_average_voltage_250_1000']))\n",
    "    incorrect_epochs = participant_epochs['participant_correct == False']\n",
    "    incorrect_voltage_list.append(np.mean(incorrect_epochs.metadata['Pz_average_voltage_250_1000']))\n",
    "    \n",
    "    for condition in conditions:\n",
    "        condition_epochs = participant_epochs['condition == \"%s\"' %  condition]\n",
    "\n",
    "        for partner in partners:\n",
    "            partner_epochs = condition_epochs['partner == \"%s\"' %  partner]\n",
    "            \n",
    "            corr, _ = stats.pointbiserialr(partner_epochs.metadata['Pz_average_voltage_250_1000'], partner_epochs.metadata['participant_correct'])\n",
    "            correlations_list.append(corr)\n",
    "            \n",
    "            \n",
    "print('\\nAverage point biserial correlation between average voltage at Pz and accuracy: %.4f' % np.mean(correlations_list))  \n",
    "print('\\nAverage average voltage on correct trials: %.4f' % np.mean(correct_voltage_list))\n",
    "print('\\nAverage average voltage on inorrect trials: %.4f' % np.mean(incorrect_voltage_list))"
   ]
  },
  {
   "cell_type": "code",
   "execution_count": null,
   "id": "8b238ce2",
   "metadata": {},
   "outputs": [],
   "source": [
    "correct_epochs = stimulus_epochs['participant_correct == True']\n",
    "incorrect_epochs = stimulus_epochs['participant_correct == False']\n",
    "x1 = correct_epochs.metadata['Pz_average_voltage_250_1000']\n",
    "x2 = incorrect_epochs.metadata['Pz_average_voltage_250_1000']\n",
    "\n",
    "plt.title(\"average voltage\", fontsize=18)\n",
    "plt.xlabel(\"average voltage at Pz 250-1000ms post stimulus\")\n",
    "plt.ylabel(\"count\")\n",
    "bins = np.arange(stimulus_epochs.metadata['Pz_average_voltage_250_1000'].min(), stimulus_epochs.metadata['Pz_average_voltage_250_1000'].max()+1, 1)\n",
    "plt.xlim((-10, 40))\n",
    "plt.hist(x1, bins=bins, alpha=0.5, color='green', label='correct trials')\n",
    "plt.axvline(x1.mean(), color='green', linestyle='dashed', linewidth=2)\n",
    "plt.text(s='%.2f' % x1.mean(), y=700, x=x1.mean()+2, color='green')\n",
    "plt.hist(x2, bins=bins, alpha=0.5, color='red', label='incorrect trials')\n",
    "plt.axvline(x2.mean(), color='red', linestyle='dashed', linewidth=2)\n",
    "plt.text(s='%.2f' % x2.mean(), y=700, x=x2.mean()-6, color='red')\n",
    "plt.legend()\n",
    "plt.show() "
   ]
  },
  {
   "cell_type": "markdown",
   "id": "23d95d54",
   "metadata": {},
   "source": [
    "## "
   ]
  },
  {
   "cell_type": "markdown",
   "id": "4dd07311",
   "metadata": {},
   "source": [
    "## Save csv"
   ]
  },
  {
   "cell_type": "code",
   "execution_count": null,
   "id": "6659e8f9",
   "metadata": {},
   "outputs": [],
   "source": [
    "df = stimulus_epochs.metadata\n",
    "df.to_csv('mergedData/stimulus_epochs_mastoids.csv')"
   ]
  },
  {
   "cell_type": "code",
   "execution_count": null,
   "id": "4ea6c074",
   "metadata": {},
   "outputs": [],
   "source": []
  },
  {
   "cell_type": "markdown",
   "id": "e597ae55",
   "metadata": {},
   "source": [
    "## P3 by decision reaction time"
   ]
  },
  {
   "cell_type": "code",
   "execution_count": null,
   "id": "e0627dae",
   "metadata": {},
   "outputs": [],
   "source": [
    "## exclude reaction times > x? "
   ]
  },
  {
   "cell_type": "code",
   "execution_count": null,
   "id": "b0670700",
   "metadata": {},
   "outputs": [],
   "source": [
    "zscore = lambda x: (x - x.mean()) / x.std()\n",
    "# zscore by participant\n",
    "stimulus_epochs.metadata['decision_rt_z_by_participant'] = stimulus_epochs.metadata['decision_rt'].groupby(stimulus_epochs.metadata['participant']).transform(zscore)\n"
   ]
  },
  {
   "cell_type": "code",
   "execution_count": null,
   "id": "309a9275",
   "metadata": {},
   "outputs": [],
   "source": [
    "slow_epochs = stimulus_epochs['decision_rt_z_by_participant >= %i' % 0]\n",
    "fast_epochs = stimulus_epochs['decision_rt_z_by_participant < %i' % 0]\n",
    "\n",
    "slow_evoked = slow_epochs.average()\n",
    "fast_evoked = fast_epochs.average()\n",
    "\n",
    "evokeds = dict(fast=fast_evoked, slow=slow_evoked)\n",
    "mne.viz.plot_compare_evokeds(evokeds, picks=['Pz'], invert_y=False)"
   ]
  },
  {
   "cell_type": "code",
   "execution_count": null,
   "id": "351f3410",
   "metadata": {},
   "outputs": [],
   "source": [
    "print(\"\\n----------------------- all participants -----------------------\\n\\n\")\n",
    "for condition in conditions:\n",
    "    condition_epochs = stimulus_epochs['condition == \"%s\"' %  condition]\n",
    "    if condition == \"ns\":\n",
    "        print(\"observational condition\")\n",
    "    else:\n",
    "        print(\"strategic condition\")\n",
    "    \n",
    "    for partner in partners:\n",
    "        partner_epochs = condition_epochs['partner == \"%s\"' %  partner]\n",
    "        x=partner_epochs.metadata['decision_rt_z_by_participant']\n",
    "        y=partner_epochs.metadata['Pz_highest_peak_voltage']\n",
    "        slope, intercept, r_value, p_value, std_err = stats.linregress(x,y)\n",
    "        line = slope*x+intercept\n",
    "        #plt.plot(x, line, label='{} y={:.2f}x+{:.2f}'.format(partner,slope,intercept))\n",
    "        plt.plot(x, line, label='%s' % partner)\n",
    "        plt.xlim(-2, 4)\n",
    "        plt.ylim(-10, 20)\n",
    "        plt.scatter(x,y, color=\"k\", s=2, alpha=0.2)\n",
    "        plt.legend(fontsize=13)\n",
    "        plt.xlabel(\"decision reaction time z-scored by participant\")\n",
    "        plt.ylabel(\"highest peak voltage at Pz\")\n",
    "    \n",
    "    plt.show()"
   ]
  },
  {
   "cell_type": "code",
   "execution_count": null,
   "id": "bea9760e",
   "metadata": {},
   "outputs": [],
   "source": [
    "for participant in participant_numbers:\n",
    "    participant_epochs = stimulus_epochs['participant == %i' %  participant]\n",
    "    print('\\033[1m' + \"\\n\\n----------------------- Participant %i -----------------------\\n\" % participant)\n",
    "    print('\\033[0m')\n",
    "    \n",
    "    for condition in conditions:\n",
    "        condition_epochs = participant_epochs['condition == \"%s\"' %  condition]\n",
    "        if condition == \"ns\":\n",
    "            print(\"observational condition\")\n",
    "        else:\n",
    "            print(\"strategic condition\")\n",
    "\n",
    "        for partner in partners:\n",
    "            partner_epochs = condition_epochs['partner == \"%s\"' %  partner]\n",
    "            \n",
    "            x=partner_epochs.metadata['decision_rt']\n",
    "            y=partner_epochs.metadata['Pz_highest_peak_voltage']\n",
    "            \n",
    "            slope, intercept, r_value, p_value, std_err = stats.linregress(x,y)\n",
    "            line = slope*x+intercept\n",
    "            \n",
    "            #plt.plot(x, line, label='y={:.2f}x+{:.2f}'.format(slope,intercept))\n",
    "            plt.plot(x, line, label='%s' % partner)\n",
    "            #plt.xlim(0, 3)\n",
    "            plt.scatter(x,y, color=\"k\", s=2, alpha=0.5)\n",
    "            plt.legend(fontsize=13)\n",
    "            plt.xlabel(\"decision reaction time\")\n",
    "            plt.ylabel(\"highest peak voltage at Pz\")\n",
    "            \n",
    "        plt.show()"
   ]
  },
  {
   "cell_type": "code",
   "execution_count": null,
   "id": "dc27df12",
   "metadata": {},
   "outputs": [],
   "source": []
  },
  {
   "cell_type": "code",
   "execution_count": null,
   "id": "9dfc61ab",
   "metadata": {},
   "outputs": [],
   "source": []
  },
  {
   "cell_type": "code",
   "execution_count": null,
   "id": "c01394f9",
   "metadata": {},
   "outputs": [],
   "source": []
  }
 ],
 "metadata": {
  "kernelspec": {
   "display_name": "Python 3 (ipykernel)",
   "language": "python",
   "name": "python3"
  },
  "language_info": {
   "codemirror_mode": {
    "name": "ipython",
    "version": 3
   },
   "file_extension": ".py",
   "mimetype": "text/x-python",
   "name": "python",
   "nbconvert_exporter": "python",
   "pygments_lexer": "ipython3",
   "version": "3.10.4"
  }
 },
 "nbformat": 4,
 "nbformat_minor": 5
}
